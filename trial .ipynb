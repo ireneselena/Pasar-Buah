{
 "cells": [
  {
   "cell_type": "code",
   "execution_count": 2,
   "metadata": {},
   "outputs": [],
   "source": [
    "# Definisikan stock buah\n",
    "stockApel = 10\n",
    "stockJeruk = 8\n",
    "stockAnggur = 15\n",
    "\n",
    "# Definisikan harga buah\n",
    "hargaApel = 10000\n",
    "hargaJeruk = 15000\n",
    "hargaAnggur = 20000\n",
    "\n"
   ]
  },
  {
   "cell_type": "code",
   "execution_count": 4,
   "metadata": {},
   "outputs": [],
   "source": [
    "def inputBuah(nama, stock, harga):\n",
    "    while True:\n",
    "        # Input jumlah buah\n",
    "        nBuah = int(input(f'Masukkan jumlah {nama}'))\n",
    "\n",
    "        # Membandingkan antara permintaan dengan stock\n",
    "        if nBuah > stock: \n",
    "            print(f'Jumlah terlalu banyak, stock tersisa {stock} buah')\n",
    "            continue\n",
    "\n",
    "        # Berhenti minta input, ketika jumlah permintaan terpenuhi\n",
    "        break\n",
    "\n",
    "    # Hitung harga untuk buah tersebut\n",
    "    hargaBuah = nBuah * harga\n",
    "\n",
    "    return nBuah, hargaBuah \n",
    "    "
   ]
  },
  {
   "cell_type": "code",
   "execution_count": 6,
   "metadata": {},
   "outputs": [],
   "source": [
    "nApel, totalHargaApel = inputBuah(nama='Apel', stock=stockApel, harga=hargaApel)"
   ]
  },
  {
   "cell_type": "code",
   "execution_count": 8,
   "metadata": {},
   "outputs": [
    {
     "data": {
      "text/plain": [
       "(5, 50000)"
      ]
     },
     "execution_count": 8,
     "metadata": {},
     "output_type": "execute_result"
    }
   ],
   "source": [
    "nApel, totalHargaApel"
   ]
  },
  {
   "cell_type": "code",
   "execution_count": null,
   "metadata": {},
   "outputs": [],
   "source": []
  }
 ],
 "metadata": {
  "kernelspec": {
   "display_name": "Python 3",
   "language": "python",
   "name": "python3"
  },
  "language_info": {
   "codemirror_mode": {
    "name": "ipython",
    "version": 3
   },
   "file_extension": ".py",
   "mimetype": "text/x-python",
   "name": "python",
   "nbconvert_exporter": "python",
   "pygments_lexer": "ipython3",
   "version": "3.9.16"
  }
 },
 "nbformat": 4,
 "nbformat_minor": 2
}
