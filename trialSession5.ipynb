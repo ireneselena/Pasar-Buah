{
 "cells": [
  {
   "cell_type": "code",
   "execution_count": 32,
   "metadata": {},
   "outputs": [
    {
     "name": "stdout",
     "output_type": "stream",
     "text": [
      "Selamat Datang di Pasar Buah\n",
      "      \n",
      "      List menu:\n",
      "      1. Menampilkan Daftar Buah\n",
      "      2. Menambah Buah\n",
      "      3. Menghapus Buah\n",
      "      4. Membeli Buah\n",
      "      5. Exit Program\n",
      "Daftar Buah  index  stock      name    price\n",
      "-------  -------  ------  -------\n",
      "      0  Apel         20    10000\n",
      "      1  Jeruk        15    15000\n",
      "      2  Anggur       25    20000\n"
     ]
    }
   ],
   "source": [
    "from tabulate import tabulate\n",
    "\n",
    "defaultMenu = '''Selamat Datang di Pasar Buah\n",
    "      \n",
    "      List menu:\n",
    "      1. Menampilkan Daftar Buah\n",
    "      2. Menambah Buah\n",
    "      3. Menghapus Buah\n",
    "      4. Membeli Buah\n",
    "      5. Exit Program'''\n",
    "\n",
    "print(defaultMenu)\n",
    "menu = input('Masukkan angka Menu yang ingin dijalankan: ')\n",
    "\n",
    "if menu == 1:\n",
    "    daftarBuah = [\n",
    "    [0, \"Apel\", 20, 10000],\n",
    "    [1, \"Jeruk\", 15, 15000],\n",
    "    [2, \"Anggur\", 25, 20000]]\n",
    "print(\"Daftar Buah\" + tabulate(daftarBuah,\n",
    "               headers=[\"index\", \"stock\", \"name\", \"price\"]))"
   ]
  },
  {
   "cell_type": "code",
   "execution_count": null,
   "metadata": {},
   "outputs": [],
   "source": []
  },
  {
   "cell_type": "code",
   "execution_count": 4,
   "metadata": {},
   "outputs": [
    {
     "name": "stdout",
     "output_type": "stream",
     "text": [
      "  index  stock      name    price\n",
      "-------  -------  ------  -------\n",
      "      0  Apel         20    10000\n",
      "      1  Jeruk        15    15000\n",
      "      2  Anggur       25    20000\n"
     ]
    }
   ],
   "source": [
    "from tabulate import tabulate\n",
    "\n",
    "daftarBuah = [\n",
    "    [0, \"Apel\", 20, 10000],\n",
    "    [1, \"Jeruk\", 15, 15000],\n",
    "    [2, \"Anggur\", 25, 20000]\n",
    "]\n",
    "\n",
    "print(tabulate(daftarBuah,\n",
    "               headers=[\"index\", \"stock\", \"name\", \"price\"]))"
   ]
  },
  {
   "cell_type": "code",
   "execution_count": 37,
   "metadata": {},
   "outputs": [
    {
     "name": "stdout",
     "output_type": "stream",
     "text": [
      "Yang Anda inputkan bukan bilangan\n"
     ]
    },
    {
     "data": {
      "text/plain": [
       "3"
      ]
     },
     "execution_count": 37,
     "metadata": {},
     "output_type": "execute_result"
    }
   ],
   "source": [
    "def integer_validation():\n",
    "    while True:\n",
    "        a = input('Silahkan masukkan angka: ')\n",
    "        try:\n",
    "            a = int(a)\n",
    "            break\n",
    "        except:\n",
    "            print(\"Yang Anda inputkan bukan bilangan\")\n",
    "    return a \n",
    "\n",
    "integer_validation()"
   ]
  },
  {
   "cell_type": "code",
   "execution_count": 44,
   "metadata": {},
   "outputs": [
    {
     "data": {
      "text/plain": [
       "'Durian'"
      ]
     },
     "execution_count": 44,
     "metadata": {},
     "output_type": "execute_result"
    }
   ],
   "source": [
    "def string_validation(title):\n",
    "    while True:\n",
    "        a = input(title)\n",
    "        if a.isalpha() == True:\n",
    "            break\n",
    "        else:\n",
    "            print(\"Silahkan inputkan hanya teks\")\n",
    "    return a.capitalize()\n",
    "\n",
    "string_validation(\"Silahkan masukkan nama buah: \")"
   ]
  },
  {
   "cell_type": "code",
   "execution_count": null,
   "metadata": {},
   "outputs": [],
   "source": [
    "daftarBuah = [\n",
    "    [0, \"Ape\"]\n",
    "]"
   ]
  }
 ],
 "metadata": {
  "kernelspec": {
   "display_name": "Python 3",
   "language": "python",
   "name": "python3"
  },
  "language_info": {
   "codemirror_mode": {
    "name": "ipython",
    "version": 3
   },
   "file_extension": ".py",
   "mimetype": "text/x-python",
   "name": "python",
   "nbconvert_exporter": "python",
   "pygments_lexer": "ipython3",
   "version": "3.9.16"
  }
 },
 "nbformat": 4,
 "nbformat_minor": 2
}
